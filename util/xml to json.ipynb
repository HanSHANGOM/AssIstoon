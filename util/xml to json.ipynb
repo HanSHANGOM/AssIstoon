{
 "cells": [
  {
   "cell_type": "code",
   "execution_count": 19,
   "metadata": {},
   "outputs": [],
   "source": [
    "import glob\n",
    "\n",
    "import json\n",
    "import xmltodict\n",
    "\n",
    "xml_list = glob.glob('X:/Manga109_2017_09_28/annotations/*.xml')\n",
    "\n"
   ]
  },
  {
   "cell_type": "code",
   "execution_count": 24,
   "metadata": {},
   "outputs": [],
   "source": [
    "for i in range(len(xml_list)) :\n",
    "    tmp=xml_list[i].replace(\"\\\\\",'/')\n",
    "    xml_list[i]=tmp\n",
    "    with open(xml_list[i],'r',encoding='utf8') as f:\n",
    "        xmlString = f.read()\n",
    "        #print(\"xml input (xml_to_json.xml):\")\n",
    "        #print(xmlString)\n",
    " \n",
    "    jsonString = json.dumps(xmltodict.parse(xmlString), indent=4)\n",
    " \n",
    "        #print(\"\\nJSON output(output.json):\")\n",
    "        #print(jsonString)\n",
    "    filename_idx=xml_list[i].rfind('/')+1\n",
    "    filename=xml_list[i][filename_idx:-4]\n",
    "    with open(\"X:/Manga109_2017_09_28/annotations_json/\"+filename+'.json', 'w',encoding='utf8') as f:\n",
    "        f.write(jsonString)\n"
   ]
  },
  {
   "cell_type": "code",
   "execution_count": 39,
   "metadata": {},
   "outputs": [],
   "source": []
  },
  {
   "cell_type": "code",
   "execution_count": null,
   "metadata": {},
   "outputs": [],
   "source": []
  }
 ],
 "metadata": {
  "kernelspec": {
   "display_name": "Python [conda env:tensorflow]",
   "language": "python",
   "name": "conda-env-tensorflow-py"
  },
  "language_info": {
   "codemirror_mode": {
    "name": "ipython",
    "version": 3
   },
   "file_extension": ".py",
   "mimetype": "text/x-python",
   "name": "python",
   "nbconvert_exporter": "python",
   "pygments_lexer": "ipython3",
   "version": "3.5.6"
  }
 },
 "nbformat": 4,
 "nbformat_minor": 2
}
