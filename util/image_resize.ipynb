{
 "cells": [
  {
   "cell_type": "code",
   "execution_count": 1,
   "metadata": {},
   "outputs": [
    {
     "name": "stdout",
     "output_type": "stream",
     "text": [
      "['e123_p10.jpg', 'e123_p11.jpg', 'e123_p12.jpg', 'e123_p13.jpg', 'e123_p16.jpg', 'e123_p17.jpg', 'e123_p18.jpg', 'e123_p19.jpg', 'e123_p2.jpg', 'e123_p21.jpg', 'e123_p23.jpg', 'e123_p24.jpg', 'e123_p25.jpg', 'e123_p26.jpg', 'e123_p27.jpg', 'e123_p29.jpg', 'e123_p32.jpg', 'e123_p34.jpg', 'e123_p35.jpg', 'e123_p36.jpg', 'e123_p37.jpg', 'e124_p10.jpg', 'e124_p11.jpg', 'e124_p12.jpg', 'e124_p13.jpg', 'e124_p14.jpg', 'e124_p15.jpg', 'e124_p16.jpg', 'e124_p17.jpg', 'e124_p18.jpg', 'e124_p19.jpg', 'e124_p2.jpg', 'e124_p21.jpg', 'e124_p22.jpg', 'e124_p23.jpg', 'e124_p25.jpg', 'e124_p26.jpg', 'e124_p27.jpg', 'e124_p29.jpg', 'e125_p10.jpg', 'e125_p100.jpg', 'e125_p101.jpg', 'e125_p102.jpg', 'e125_p103.jpg', 'e125_p104.jpg', 'e125_p105.jpg', 'e125_p106.jpg', 'e125_p107.jpg', 'e125_p108.jpg', 'e125_p109.jpg', 'e125_p11.jpg', 'e125_p110.jpg', 'e125_p111.jpg', 'e125_p112.jpg', 'e125_p113.jpg', 'e125_p114.jpg', 'e125_p118.jpg', 'e125_p119.jpg', 'e125_p12.jpg', 'e125_p120.jpg', 'e125_p123.jpg', 'e125_p125.jpg', 'e125_p126.jpg', 'e125_p127.jpg', 'e125_p13.jpg', 'e125_p14.jpg', 'e125_p140.jpg', 'e125_p141.jpg', 'e125_p15.jpg', 'e125_p16.jpg', 'e125_p17.jpg', 'e125_p18.jpg', 'e125_p19.jpg', 'e125_p2.jpg', 'e125_p21.jpg', 'e125_p24.jpg', 'e125_p25.jpg', 'e125_p26.jpg', 'e125_p28.jpg', 'e125_p3.jpg', 'e125_p33.jpg', 'e125_p35.jpg']\n"
     ]
    }
   ],
   "source": [
    "from PIL import Image\n",
    "import io\n",
    "import os\n",
    "\n",
    "size = (512,512)\n",
    "path='C:/Users/sanghoon/AssIstoon/sfx_extract/dataset/val/images/'\n",
    "savepath='C:/Users/sanghoon/AssIstoon/sfx_extract/dataset/val/images/'\n",
    "img_list=os.listdir(path)\n",
    "print(img_list)"
   ]
  },
  {
   "cell_type": "code",
   "execution_count": 2,
   "metadata": {},
   "outputs": [
    {
     "data": {
      "text/plain": [
       "(1180, 754)"
      ]
     },
     "execution_count": 2,
     "metadata": {},
     "output_type": "execute_result"
    }
   ],
   "source": [
    "img=Image.open(path+img_list[0])\n",
    "import numpy as np\n",
    "np.array(img).shape"
   ]
  },
  {
   "cell_type": "code",
   "execution_count": 3,
   "metadata": {},
   "outputs": [],
   "source": [
    "for imgname in img_list:\n",
    "    imgpath=path+imgname\n",
    "    im = Image.open(imgpath)\n",
    "    img2 = im.resize(size)\n",
    "    #print(np.array(img2).shape)\n",
    "    img2.save(savepath+imgname)"
   ]
  },
  {
   "cell_type": "code",
   "execution_count": null,
   "metadata": {},
   "outputs": [],
   "source": []
  }
 ],
 "metadata": {
  "kernelspec": {
   "display_name": "Python 3",
   "language": "python",
   "name": "python3"
  },
  "language_info": {
   "codemirror_mode": {
    "name": "ipython",
    "version": 3
   },
   "file_extension": ".py",
   "mimetype": "text/x-python",
   "name": "python",
   "nbconvert_exporter": "python",
   "pygments_lexer": "ipython3",
   "version": "3.7.3"
  }
 },
 "nbformat": 4,
 "nbformat_minor": 2
}
